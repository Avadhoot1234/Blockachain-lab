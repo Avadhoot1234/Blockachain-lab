{
  "nbformat": 4,
  "nbformat_minor": 0,
  "metadata": {
    "colab": {
      "provenance": []
    },
    "kernelspec": {
      "name": "python3",
      "display_name": "Python 3"
    },
    "language_info": {
      "name": "python"
    }
  },
  "cells": [
    {
      "cell_type": "code",
      "execution_count": null,
      "metadata": {
        "id": "HEhuCgV-_bhH"
      },
      "outputs": [],
      "source": [
        "# Python program to create Blockchain\n",
        "\n",
        "# For timestamp\n",
        "import datetime\n",
        "\n",
        "# Calculating the hash\n",
        "# in order to add digital\n",
        "# fingerprints to the blocks\n",
        "import hashlib\n",
        "\n",
        "# To store data\n",
        "# in our blockchain\n",
        "import json\n",
        "\n",
        "# Flask is for creating the web\n",
        "# app and jsonify is for\n",
        "# displaying the blockchain\n",
        "from flask import Flask, jsonify\n",
        "\n",
        "\n"
      ]
    },
    {
      "cell_type": "code",
      "source": [
        "class Blockchain:\n",
        "\n",
        "    # This function is created\n",
        "    # to create the very first\n",
        "    # block and set it's hash to \"0\"\n",
        "    def __init__(self):\n",
        "        self.chain = []\n",
        "        self.create_block(proof=1, previous_hash='0')\n",
        "\n",
        "    # This function is created\n",
        "    # to add further blocks\n",
        "    # into the chain\n",
        "    def create_block(self, proof, previous_hash):\n",
        "        block = {'index': len(self.chain) + 1,\n",
        "                 'timestamp': str(datetime.datetime.now()),\n",
        "                 'proof': proof,\n",
        "                 'previous_hash': previous_hash}\n",
        "        self.chain.append(block)\n",
        "        return block\n",
        "\n",
        "    # This function is created\n",
        "    # to display the previous block\n",
        "    def print_previous_block(self):\n",
        "        return self.chain[-1]\n",
        "\n",
        "    # This is the function for proof of work\n",
        "    # and used to successfully mine the block\n",
        "    def proof_of_work(self, previous_proof):\n",
        "        new_proof = 1\n",
        "        check_proof = False\n",
        "\n",
        "        while check_proof is False:\n",
        "            hash_operation = hashlib.sha256(\n",
        "                str(new_proof**2 - previous_proof**2).encode()).hexdigest()\n",
        "            if hash_operation[:5] == '00000':\n",
        "                check_proof = True\n",
        "            else:\n",
        "                new_proof += 1\n",
        "\n",
        "        return new_proof\n",
        "\n",
        "    def hash(self, block):\n",
        "        encoded_block = json.dumps(block, sort_keys=True).encode()\n",
        "        return hashlib.sha256(encoded_block).hexdigest()\n",
        "\n",
        "    def chain_valid(self, chain):\n",
        "        previous_block = chain[0]\n",
        "        block_index = 1\n",
        "\n",
        "        while block_index < len(chain):\n",
        "            block = chain[block_index]\n",
        "            if block['previous_hash'] != self.hash(previous_block):\n",
        "                return False\n",
        "\n",
        "            previous_proof = previous_block['proof']\n",
        "            proof = block['proof']\n",
        "            hash_operation = hashlib.sha256(\n",
        "                str(proof**2 - previous_proof**2).encode()).hexdigest()\n",
        "\n",
        "            if hash_operation[:5] != '00000':\n",
        "                return False\n",
        "            previous_block = block\n",
        "            block_index += 1\n",
        "\n",
        "        return True\n",
        "# Creating the Web\n",
        "# App using flask\n",
        "app = Flask(__name__)\n",
        "\n",
        "# Create the object\n",
        "# of the class blockchain\n",
        "blockchain = Blockchain()\n",
        "\n",
        "# Mining a new block\n",
        "@app.route('/mine_block', methods=['GET'])\n",
        "def mine_block():\n",
        "    previous_block = blockchain.print_previous_block()\n",
        "    previous_proof = previous_block['proof']\n",
        "    proof = blockchain.proof_of_work(previous_proof)\n",
        "    previous_hash = blockchain.hash(previous_block)\n",
        "    block = blockchain.create_block(proof, previous_hash)\n",
        "\n",
        "    response = {'message': 'A block is MINED',\n",
        "                'index': block['index'],\n",
        "                'timestamp': block['timestamp'],\n",
        "                'proof': block['proof'],\n",
        "                'previous_hash': block['previous_hash']}\n",
        "\n",
        "    return jsonify(response), 200\n",
        "\n",
        "# Display blockchain in json format\n",
        "@app.route('/get_chain', methods=['GET'])\n",
        "def display_chain():\n",
        "    response = {'chain': blockchain.chain,\n",
        "                'length': len(blockchain.chain)}\n",
        "    return jsonify(response), 200\n",
        "\n",
        "# Check validity of blockchain\n",
        "@app.route('/valid', methods=['GET'])\n",
        "def valid():\n",
        "    valid = blockchain.chain_valid(blockchain.chain)\n",
        "\n",
        "    if valid:\n",
        "        response = {'message': 'The Blockchain is valid.'}\n",
        "    else:\n",
        "        response = {'message': 'The Blockchain is not valid.'}\n",
        "    return jsonify(response), 200\n",
        "app.run(host='127.0.0.1',port=5000)\n",
        "\n"
      ],
      "metadata": {
        "id": "ThWIu3BRFp-F",
        "colab": {
          "base_uri": "https://localhost:8080/"
        },
        "outputId": "8ed69bd4-4eb3-4789-9659-58cd84819748"
      },
      "execution_count": null,
      "outputs": [
        {
          "output_type": "stream",
          "name": "stdout",
          "text": [
            " * Serving Flask app '__main__'\n",
            " * Debug mode: off\n"
          ]
        },
        {
          "output_type": "stream",
          "name": "stderr",
          "text": [
            "INFO:werkzeug:\u001b[31m\u001b[1mWARNING: This is a development server. Do not use it in a production deployment. Use a production WSGI server instead.\u001b[0m\n",
            " * Running on http://127.0.0.1:5000\n",
            "INFO:werkzeug:\u001b[33mPress CTRL+C to quit\u001b[0m\n"
          ]
        }
      ]
    },
    {
      "cell_type": "code",
      "source": [],
      "metadata": {
        "id": "0AWryA6GzkNi"
      },
      "execution_count": null,
      "outputs": []
    }
  ]
}